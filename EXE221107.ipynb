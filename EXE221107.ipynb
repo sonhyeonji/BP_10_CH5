{
  "nbformat": 4,
  "nbformat_minor": 0,
  "metadata": {
    "colab": {
      "provenance": [],
      "authorship_tag": "ABX9TyO6dDXex6iA/P4qhFug2FTw",
      "include_colab_link": true
    },
    "kernelspec": {
      "name": "python3",
      "display_name": "Python 3"
    },
    "language_info": {
      "name": "python"
    }
  },
  "cells": [
    {
      "cell_type": "markdown",
      "metadata": {
        "id": "view-in-github",
        "colab_type": "text"
      },
      "source": [
        "<a href=\"https://colab.research.google.com/github/sonhyeonji/BP_10_CH5/blob/main/EXE221107.ipynb\" target=\"_parent\"><img src=\"https://colab.research.google.com/assets/colab-badge.svg\" alt=\"Open In Colab\"/></a>"
      ]
    },
    {
      "cell_type": "code",
      "execution_count": 3,
      "metadata": {
        "colab": {
          "base_uri": "https://localhost:8080/"
        },
        "id": "hEyNvEAb3GkI",
        "outputId": "4c53c139-32fb-4cb5-8a20-4ffae55a07e4"
      },
      "outputs": [
        {
          "output_type": "stream",
          "name": "stdout",
          "text": [
            "20살 이상\n"
          ]
        }
      ],
      "source": [
        "age=20 #변수를 age로 지정\n",
        "if age < 20:\n",
        "  print(\"20살 미만\")\n",
        "else:\n",
        "  print(\"20살 이상\")"
      ]
    },
    {
      "cell_type": "code",
      "source": [
        "age=20 #변수를 age로 지정\n",
        "int(input(\"나이를 입력하시오.:\")) #int를 이용하여 숫자로 값을 받는다\n",
        "if age >= 30 and age <= 50:\n",
        "  print(\"30살 이상이고 50살 이하\")\n",
        "else:\n",
        "  print(\"30살 이하인 나머지\")  "
      ],
      "metadata": {
        "colab": {
          "base_uri": "https://localhost:8080/"
        },
        "id": "7cGHIMt48dxT",
        "outputId": "e815ed85-8efb-4be5-965b-4f9a76ab1954"
      },
      "execution_count": 23,
      "outputs": [
        {
          "output_type": "stream",
          "name": "stdout",
          "text": [
            "나이를 입력하시오.:20\n",
            "30살 이하인 나머지\n"
          ]
        }
      ]
    },
    {
      "cell_type": "code",
      "source": [
        "temp=int(input(\"현재 온도를 입력하시오.:\")) #변수를 temp로 지정 #int를 이용하여 숫자로 값을 받는다.\n",
        "if temp >= 25:\n",
        "  print(\"반바지를 입으세요.\")\n",
        "else:\n",
        "  print(\"긴바지를 입으세요.\")  "
      ],
      "metadata": {
        "colab": {
          "base_uri": "https://localhost:8080/"
        },
        "id": "Om0GY4FU-nEb",
        "outputId": "19447940-1629-4463-a61e-a88c331c980a"
      },
      "execution_count": 25,
      "outputs": [
        {
          "output_type": "stream",
          "name": "stdout",
          "text": [
            "현재 온도를 입력하시오.:10\n",
            "긴바지를 입으세요.\n"
          ]
        }
      ]
    },
    {
      "cell_type": "code",
      "source": [
        "score=int(input(\"성적을 입력하시오.:\")) #변수를 score로 지정 #int를 이용하여 숫자로 값을 받는다.\n",
        "if score >=90: #변수 score이 값이 90이 넘는 경우\n",
        "  print(\"A학점입니다.\") \n",
        "elif score >=80: #변수 score이 값이 80이 넘는 경우\n",
        "  print(\"B학점입니다.\") \n",
        "elif score >=70: #변수 score이 값이 70이 넘는 경우\n",
        "  print(\"C학점입니다.\") \n",
        "elif score >=60: #변수 score이 값이 60이 넘는 경우\n",
        "  print(\"D학점입니다.\")\n",
        "else:                      #위의 경우를 제외한 경우\n",
        "  print(\"F학점입니다.\")"
      ],
      "metadata": {
        "colab": {
          "base_uri": "https://localhost:8080/"
        },
        "id": "T7nNL8NeAu7L",
        "outputId": "6f4e0ce5-5ed8-4fe2-f86b-77dc983901d8"
      },
      "execution_count": 26,
      "outputs": [
        {
          "output_type": "stream",
          "name": "stdout",
          "text": [
            "성적을 입력하시오.:99\n",
            "A학점입니다.\n"
          ]
        }
      ]
    },
    {
      "cell_type": "code",
      "source": [
        "import random\n",
        "a=random.randint(1,100) #변수를 a로 지정\n",
        "b=random.randint(1,100) #변수를 b로 지정\n",
        "\n",
        "ans=int(input(str(a)+\"-\"+str(b)+\"=\")) #변수를 ans로 지정 #int를 이용하여 숫자로 값을 받는다.  #변수a,b는 str를 이용해 문자로 받는다. \n",
        "if ans==a-b:\n",
        "  print(\"맞았습니다.\")\n",
        "else:\n",
        "  print(\"틀렸습니다.\")  "
      ],
      "metadata": {
        "colab": {
          "base_uri": "https://localhost:8080/"
        },
        "id": "FGaLK7bdCUcD",
        "outputId": "55e0ad2c-a7d4-44a4-c607-63522b91a48f"
      },
      "execution_count": 27,
      "outputs": [
        {
          "output_type": "stream",
          "name": "stdout",
          "text": [
            "43-17=26\n",
            "맞았습니다.\n"
          ]
        }
      ]
    },
    {
      "cell_type": "code",
      "source": [
        "n=int(input(\"정수를 입력하시오.:\")) #변수를 n로 지정 #int를 이용하여 숫자로 값을 받는다.\n",
        "\n",
        "if n%2==0 and n%3==0: #변수 n의 값이 2와 3으로 나누어 떨어지는 경우\n",
        "  print(\"2와 3으로 나누어 떨어집니다.\")\n",
        "else:\n",
        "  print(\"2와 3으로 나누어 떨어지지 않습니다.\")  #위의 경우를 제외한 경우"
      ],
      "metadata": {
        "colab": {
          "base_uri": "https://localhost:8080/"
        },
        "id": "-ycFMrl9EOsy",
        "outputId": "9dc54ef5-c5eb-4e4b-8651-6265b0d0c828"
      },
      "execution_count": 28,
      "outputs": [
        {
          "output_type": "stream",
          "name": "stdout",
          "text": [
            "정수를 입력하시오.:6\n",
            "2와 3으로 나누어 떨어집니다.\n"
          ]
        }
      ]
    },
    {
      "cell_type": "code",
      "source": [
        "import random\n",
        "solution=random.randint(0,99) #변수를 solution로 지정 \n",
        "user=int(input(\"복권번호를 입력하시오(0에서 99사이):\")) #변수를 user로 지정 #int를 이용하여 숫자로 값을 받는다.\n",
        "\n",
        "digit1=solution //10 #나눗셈의 몫을 구한다\n",
        "digit2=solution %10  #나눗셈의 나머지를 구한다\n",
        "u_digit1=user //10  #나눗셈의 몫을 구한다\n",
        "u_digit2=user %10 #나눗셈의 나머지를 구한다\n",
        "\n",
        "print(\"당험번호는\",solution,\"입니다.\")\n",
        "\n",
        "if (digit1 == u_digit1 and digit2 == u_digit2):\n",
        "  print(\"상금은 100만원입니다.\")\n",
        "elif (digit1==u_digit1\n",
        "     or digit1==u_digit2\n",
        "     or digit2==u_digit1\n",
        "     or digit2==u_digit2):\n",
        "  print(\"상금은 50만원입니다.\")\n",
        "else: #위의 경우를 제외한 경우\n",
        "  print(\"상금은 없습니다.\")"
      ],
      "metadata": {
        "colab": {
          "base_uri": "https://localhost:8080/"
        },
        "id": "ySKuIDTxFNjx",
        "outputId": "c8ad19f2-8f3c-41a5-80be-35c48fe35ecd"
      },
      "execution_count": 33,
      "outputs": [
        {
          "output_type": "stream",
          "name": "stdout",
          "text": [
            "복권번호를 입력하시오(0에서 99사이):67\n",
            "당험번호는 48 입니다.\n",
            "상금은 없습니다.\n"
          ]
        }
      ]
    },
    {
      "cell_type": "code",
      "source": [
        "import turtle\n",
        "t=turtle.Turtle()\n",
        "t.shape(\"turtle\")\n",
        "\n",
        "x1=int(input(\"큰 원의 중심좌표 x1:\"))\n",
        "y1=int(input(\"큰 원의 중심좌표 y1:\"))\n",
        "r1=int(input(\"큰 원의 반지름:\"))\n",
        "x2=int(input(\"작은 원의 중심좌표 x2:\"))\n",
        "y2=int(input(\"작은 원의 중심좌표 y2:\"))\n",
        "r2=int(input(\"작은 원의 반지름:\"))\n",
        "\n",
        "t.penup()\n",
        "t.goto(x1,y1)\n",
        "t.pendown()\n",
        "t.circle(r1)\n",
        "\n",
        "t.penup()\n",
        "t.goto(x2,y2)\n",
        "t.pendown()\n",
        "t.circle(r2)\n",
        "\n",
        "dist=((x1-x2)*(x1-x2)+(y1-y2)*(y1-y2))**0.5\n",
        "if dist <= r1-r2:\n",
        "  turtle.write(\"두번째 원이 첫번째 원의 내부에 있습니다.\")\n",
        "elif dist <= r1+r2:\n",
        "  turtle.write(\"두번째 원이 첫번째 원과 겹칩니다.\")\n",
        "else:\n",
        "  turtle.write(\"두번째 원이 첫번째 원과 겹치지 않습니다.\")\n",
        "t.screen.exitonclick() #화면을 마우스로 클릭해야 종료되게 하는 부분      "
      ],
      "metadata": {
        "id": "pCxc_vqDLK1g"
      },
      "execution_count": null,
      "outputs": []
    }
  ]
}